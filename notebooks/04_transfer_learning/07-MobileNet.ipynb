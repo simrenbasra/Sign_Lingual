{
 "cells": [
  {
   "cell_type": "markdown",
   "metadata": {},
   "source": [
    "---\n",
    "# Mobile-Net\n",
    "-----"
   ]
  },
  {
   "cell_type": "code",
   "execution_count": 21,
   "metadata": {},
   "outputs": [],
   "source": [
    "import tensorflow as tf\n",
    "from tensorflow import keras\n",
    "from keras import layers\n",
    "from tensorflow.keras.layers import Input, Conv2D, MaxPooling2D, Flatten, Dense, BatchNormalization, Dropout\n",
    "from tensorflow.keras.models import Sequential\n",
    "from tensorflow.keras.callbacks import EarlyStopping\n",
    "from tensorflow.keras.models import load_model\n",
    "\n",
    "import numpy as np\n",
    "import pandas as pd\n",
    "from matplotlib import pyplot as plt\n",
    "from sklearn.datasets import fetch_openml\n",
    "from sklearn.model_selection import train_test_split\n",
    "from sklearn.linear_model import LogisticRegression\n",
    "from sklearn.metrics import confusion_matrix\n",
    "import joblib\n",
    "import math\n",
    "import seaborn as sns\n"
   ]
  },
  {
   "cell_type": "code",
   "execution_count": 22,
   "metadata": {},
   "outputs": [],
   "source": [
    "# Set random seeds for reproducibility\n",
    "tf.random.set_seed(1)\n",
    "np.random.seed(1)"
   ]
  },
  {
   "cell_type": "code",
   "execution_count": 23,
   "metadata": {},
   "outputs": [],
   "source": [
    "def img_resize(X_data, new_height, new_width, rgb= True):\n",
    "    '''\n",
    "        Overview:\n",
    "        To resize input images to match network input layer.\n",
    "\n",
    "        Arguments:\n",
    "            - X_data: CNN model to inspect\n",
    "            - new_height: input layer height\n",
    "            - new_width: input layer width\n",
    "            - rgb = True as default (RGB channels to 3 as default)\n",
    "\n",
    "        Output:\n",
    "            - Resized X_data\n",
    "    '''\n",
    "    # reshape to force X_data to have 4 dimenstions\n",
    "    X_data = X_data.reshape(X_data.shape[0],X_data.shape[1],X_data.shape[2],-1)\n",
    "\n",
    "    if rgb == True:\n",
    "        # force X  to have three channels (RGB)\n",
    "        X_rgb = np.repeat(X_data, 3, axis=-1) \n",
    "    else:\n",
    "        pass\n",
    "\n",
    "    # each image stored as single item in list\n",
    "    resized_images = []\n",
    "    for i in range(X_rgb.shape[0]):\n",
    "        resized_image = tf.image.resize(X_rgb[i], size=[new_height,new_width],preserve_aspect_ratio=True )\n",
    "        resized_images.append(resized_image)   \n",
    "    \n",
    "    # combines list of tensor items to single tensor item new dimenstion = num of images in list \n",
    "    X_resized = tf.stack(resized_images)\n",
    "    \n",
    "    return X_resized"
   ]
  },
  {
   "cell_type": "code",
   "execution_count": 24,
   "metadata": {},
   "outputs": [],
   "source": [
    "X = joblib.load( '../../data/my_data/X.pkl')\n",
    "y = joblib.load( '../../data/my_data/y.pkl')\n"
   ]
  },
  {
   "cell_type": "code",
   "execution_count": 25,
   "metadata": {},
   "outputs": [
    {
     "data": {
      "text/plain": [
       "(34627, 28, 28)"
      ]
     },
     "execution_count": 25,
     "metadata": {},
     "output_type": "execute_result"
    }
   ],
   "source": [
    "X = X.reshape(-1,28,28)\n",
    "X.shape"
   ]
  },
  {
   "cell_type": "code",
   "execution_count": 26,
   "metadata": {},
   "outputs": [],
   "source": [
    "X_train, X_val, y_train, y_val = train_test_split(X, y, test_size = 0.2, random_state=1, stratify=y)"
   ]
  },
  {
   "cell_type": "code",
   "execution_count": 27,
   "metadata": {},
   "outputs": [
    {
     "name": "stdout",
     "output_type": "stream",
     "text": [
      "X_train range: 0.0-1.0\n"
     ]
    }
   ],
   "source": [
    "# Modify the X values to be 0-1 instead of 0-255\n",
    "X_train = X_train.astype('float32')\n",
    "X_val = X_val.astype('float32')\n",
    "X_train /= 255\n",
    "X_val /= 255\n",
    "# Sanity Check\n",
    "print(f'X_train range: {X_train.min()}-{X_train.max()}')"
   ]
  },
  {
   "cell_type": "code",
   "execution_count": 28,
   "metadata": {},
   "outputs": [],
   "source": [
    "alphabet = ['a','b','c','d','e','f','g','h','i','k','l','m','n','o','p','q','r','s','t','u','v','w','x','y']\n",
    "unique_values, value_counts = np.unique(y, return_counts=True)"
   ]
  },
  {
   "cell_type": "markdown",
   "metadata": {},
   "source": [
    "## Mobile Net Building\n",
    "----"
   ]
  },
  {
   "cell_type": "code",
   "execution_count": 29,
   "metadata": {},
   "outputs": [],
   "source": [
    "mobile_net = tf.keras.applications.MobileNet(input_shape=(128,128,3), # min size?\n",
    "                                            alpha=1.0,\n",
    "                                            depth_multiplier=1,\n",
    "                                            dropout=0.001,\n",
    "                                            include_top=False,\n",
    "                                            weights=\"imagenet\",\n",
    "                                            classes=24,\n",
    "                                            classifier_activation=\"softmax\"\n",
    "                                            )   "
   ]
  },
  {
   "cell_type": "code",
   "execution_count": 30,
   "metadata": {},
   "outputs": [],
   "source": [
    "mobile_net.trainable = False"
   ]
  },
  {
   "cell_type": "code",
   "execution_count": 11,
   "metadata": {},
   "outputs": [
    {
     "name": "stdout",
     "output_type": "stream",
     "text": [
      "Model: \"mobilenet_1.00_128\"\n",
      "_________________________________________________________________\n",
      " Layer (type)                Output Shape              Param #   \n",
      "=================================================================\n",
      " input_1 (InputLayer)        [(None, 128, 128, 3)]     0         \n",
      "                                                                 \n",
      " conv1 (Conv2D)              (None, 64, 64, 32)        864       \n",
      "                                                                 \n",
      " conv1_bn (BatchNormalizatio  (None, 64, 64, 32)       128       \n",
      " n)                                                              \n",
      "                                                                 \n",
      " conv1_relu (ReLU)           (None, 64, 64, 32)        0         \n",
      "                                                                 \n",
      " conv_dw_1 (DepthwiseConv2D)  (None, 64, 64, 32)       288       \n",
      "                                                                 \n",
      " conv_dw_1_bn (BatchNormaliz  (None, 64, 64, 32)       128       \n",
      " ation)                                                          \n",
      "                                                                 \n",
      " conv_dw_1_relu (ReLU)       (None, 64, 64, 32)        0         \n",
      "                                                                 \n",
      " conv_pw_1 (Conv2D)          (None, 64, 64, 64)        2048      \n",
      "                                                                 \n",
      " conv_pw_1_bn (BatchNormaliz  (None, 64, 64, 64)       256       \n",
      " ation)                                                          \n",
      "                                                                 \n",
      " conv_pw_1_relu (ReLU)       (None, 64, 64, 64)        0         \n",
      "                                                                 \n",
      " conv_pad_2 (ZeroPadding2D)  (None, 65, 65, 64)        0         \n",
      "                                                                 \n",
      " conv_dw_2 (DepthwiseConv2D)  (None, 32, 32, 64)       576       \n",
      "                                                                 \n",
      " conv_dw_2_bn (BatchNormaliz  (None, 32, 32, 64)       256       \n",
      " ation)                                                          \n",
      "                                                                 \n",
      " conv_dw_2_relu (ReLU)       (None, 32, 32, 64)        0         \n",
      "                                                                 \n",
      " conv_pw_2 (Conv2D)          (None, 32, 32, 128)       8192      \n",
      "                                                                 \n",
      " conv_pw_2_bn (BatchNormaliz  (None, 32, 32, 128)      512       \n",
      " ation)                                                          \n",
      "                                                                 \n",
      " conv_pw_2_relu (ReLU)       (None, 32, 32, 128)       0         \n",
      "                                                                 \n",
      " conv_dw_3 (DepthwiseConv2D)  (None, 32, 32, 128)      1152      \n",
      "                                                                 \n",
      " conv_dw_3_bn (BatchNormaliz  (None, 32, 32, 128)      512       \n",
      " ation)                                                          \n",
      "                                                                 \n",
      " conv_dw_3_relu (ReLU)       (None, 32, 32, 128)       0         \n",
      "                                                                 \n",
      " conv_pw_3 (Conv2D)          (None, 32, 32, 128)       16384     \n",
      "                                                                 \n",
      " conv_pw_3_bn (BatchNormaliz  (None, 32, 32, 128)      512       \n",
      " ation)                                                          \n",
      "                                                                 \n",
      " conv_pw_3_relu (ReLU)       (None, 32, 32, 128)       0         \n",
      "                                                                 \n",
      " conv_pad_4 (ZeroPadding2D)  (None, 33, 33, 128)       0         \n",
      "                                                                 \n",
      " conv_dw_4 (DepthwiseConv2D)  (None, 16, 16, 128)      1152      \n",
      "                                                                 \n",
      " conv_dw_4_bn (BatchNormaliz  (None, 16, 16, 128)      512       \n",
      " ation)                                                          \n",
      "                                                                 \n",
      " conv_dw_4_relu (ReLU)       (None, 16, 16, 128)       0         \n",
      "                                                                 \n",
      " conv_pw_4 (Conv2D)          (None, 16, 16, 256)       32768     \n",
      "                                                                 \n",
      " conv_pw_4_bn (BatchNormaliz  (None, 16, 16, 256)      1024      \n",
      " ation)                                                          \n",
      "                                                                 \n",
      " conv_pw_4_relu (ReLU)       (None, 16, 16, 256)       0         \n",
      "                                                                 \n",
      " conv_dw_5 (DepthwiseConv2D)  (None, 16, 16, 256)      2304      \n",
      "                                                                 \n",
      " conv_dw_5_bn (BatchNormaliz  (None, 16, 16, 256)      1024      \n",
      " ation)                                                          \n",
      "                                                                 \n",
      " conv_dw_5_relu (ReLU)       (None, 16, 16, 256)       0         \n",
      "                                                                 \n",
      " conv_pw_5 (Conv2D)          (None, 16, 16, 256)       65536     \n",
      "                                                                 \n",
      " conv_pw_5_bn (BatchNormaliz  (None, 16, 16, 256)      1024      \n",
      " ation)                                                          \n",
      "                                                                 \n",
      " conv_pw_5_relu (ReLU)       (None, 16, 16, 256)       0         \n",
      "                                                                 \n",
      " conv_pad_6 (ZeroPadding2D)  (None, 17, 17, 256)       0         \n",
      "                                                                 \n",
      " conv_dw_6 (DepthwiseConv2D)  (None, 8, 8, 256)        2304      \n",
      "                                                                 \n",
      " conv_dw_6_bn (BatchNormaliz  (None, 8, 8, 256)        1024      \n",
      " ation)                                                          \n",
      "                                                                 \n",
      " conv_dw_6_relu (ReLU)       (None, 8, 8, 256)         0         \n",
      "                                                                 \n",
      " conv_pw_6 (Conv2D)          (None, 8, 8, 512)         131072    \n",
      "                                                                 \n",
      " conv_pw_6_bn (BatchNormaliz  (None, 8, 8, 512)        2048      \n",
      " ation)                                                          \n",
      "                                                                 \n",
      " conv_pw_6_relu (ReLU)       (None, 8, 8, 512)         0         \n",
      "                                                                 \n",
      " conv_dw_7 (DepthwiseConv2D)  (None, 8, 8, 512)        4608      \n",
      "                                                                 \n",
      " conv_dw_7_bn (BatchNormaliz  (None, 8, 8, 512)        2048      \n",
      " ation)                                                          \n",
      "                                                                 \n",
      " conv_dw_7_relu (ReLU)       (None, 8, 8, 512)         0         \n",
      "                                                                 \n",
      " conv_pw_7 (Conv2D)          (None, 8, 8, 512)         262144    \n",
      "                                                                 \n",
      " conv_pw_7_bn (BatchNormaliz  (None, 8, 8, 512)        2048      \n",
      " ation)                                                          \n",
      "                                                                 \n",
      " conv_pw_7_relu (ReLU)       (None, 8, 8, 512)         0         \n",
      "                                                                 \n",
      " conv_dw_8 (DepthwiseConv2D)  (None, 8, 8, 512)        4608      \n",
      "                                                                 \n",
      " conv_dw_8_bn (BatchNormaliz  (None, 8, 8, 512)        2048      \n",
      " ation)                                                          \n",
      "                                                                 \n",
      " conv_dw_8_relu (ReLU)       (None, 8, 8, 512)         0         \n",
      "                                                                 \n",
      " conv_pw_8 (Conv2D)          (None, 8, 8, 512)         262144    \n",
      "                                                                 \n",
      " conv_pw_8_bn (BatchNormaliz  (None, 8, 8, 512)        2048      \n",
      " ation)                                                          \n",
      "                                                                 \n",
      " conv_pw_8_relu (ReLU)       (None, 8, 8, 512)         0         \n",
      "                                                                 \n",
      " conv_dw_9 (DepthwiseConv2D)  (None, 8, 8, 512)        4608      \n",
      "                                                                 \n",
      " conv_dw_9_bn (BatchNormaliz  (None, 8, 8, 512)        2048      \n",
      " ation)                                                          \n",
      "                                                                 \n",
      " conv_dw_9_relu (ReLU)       (None, 8, 8, 512)         0         \n",
      "                                                                 \n",
      " conv_pw_9 (Conv2D)          (None, 8, 8, 512)         262144    \n",
      "                                                                 \n",
      " conv_pw_9_bn (BatchNormaliz  (None, 8, 8, 512)        2048      \n",
      " ation)                                                          \n",
      "                                                                 \n",
      " conv_pw_9_relu (ReLU)       (None, 8, 8, 512)         0         \n",
      "                                                                 \n",
      " conv_dw_10 (DepthwiseConv2D  (None, 8, 8, 512)        4608      \n",
      " )                                                               \n",
      "                                                                 \n",
      " conv_dw_10_bn (BatchNormali  (None, 8, 8, 512)        2048      \n",
      " zation)                                                         \n",
      "                                                                 \n",
      " conv_dw_10_relu (ReLU)      (None, 8, 8, 512)         0         \n",
      "                                                                 \n",
      " conv_pw_10 (Conv2D)         (None, 8, 8, 512)         262144    \n",
      "                                                                 \n",
      " conv_pw_10_bn (BatchNormali  (None, 8, 8, 512)        2048      \n",
      " zation)                                                         \n",
      "                                                                 \n",
      " conv_pw_10_relu (ReLU)      (None, 8, 8, 512)         0         \n",
      "                                                                 \n",
      " conv_dw_11 (DepthwiseConv2D  (None, 8, 8, 512)        4608      \n",
      " )                                                               \n",
      "                                                                 \n",
      " conv_dw_11_bn (BatchNormali  (None, 8, 8, 512)        2048      \n",
      " zation)                                                         \n",
      "                                                                 \n",
      " conv_dw_11_relu (ReLU)      (None, 8, 8, 512)         0         \n",
      "                                                                 \n",
      " conv_pw_11 (Conv2D)         (None, 8, 8, 512)         262144    \n",
      "                                                                 \n",
      " conv_pw_11_bn (BatchNormali  (None, 8, 8, 512)        2048      \n",
      " zation)                                                         \n",
      "                                                                 \n",
      " conv_pw_11_relu (ReLU)      (None, 8, 8, 512)         0         \n",
      "                                                                 \n",
      " conv_pad_12 (ZeroPadding2D)  (None, 9, 9, 512)        0         \n",
      "                                                                 \n",
      " conv_dw_12 (DepthwiseConv2D  (None, 4, 4, 512)        4608      \n",
      " )                                                               \n",
      "                                                                 \n",
      " conv_dw_12_bn (BatchNormali  (None, 4, 4, 512)        2048      \n",
      " zation)                                                         \n",
      "                                                                 \n",
      " conv_dw_12_relu (ReLU)      (None, 4, 4, 512)         0         \n",
      "                                                                 \n",
      " conv_pw_12 (Conv2D)         (None, 4, 4, 1024)        524288    \n",
      "                                                                 \n",
      " conv_pw_12_bn (BatchNormali  (None, 4, 4, 1024)       4096      \n",
      " zation)                                                         \n",
      "                                                                 \n",
      " conv_pw_12_relu (ReLU)      (None, 4, 4, 1024)        0         \n",
      "                                                                 \n",
      " conv_dw_13 (DepthwiseConv2D  (None, 4, 4, 1024)       9216      \n",
      " )                                                               \n",
      "                                                                 \n",
      " conv_dw_13_bn (BatchNormali  (None, 4, 4, 1024)       4096      \n",
      " zation)                                                         \n",
      "                                                                 \n",
      " conv_dw_13_relu (ReLU)      (None, 4, 4, 1024)        0         \n",
      "                                                                 \n",
      " conv_pw_13 (Conv2D)         (None, 4, 4, 1024)        1048576   \n",
      "                                                                 \n",
      " conv_pw_13_bn (BatchNormali  (None, 4, 4, 1024)       4096      \n",
      " zation)                                                         \n",
      "                                                                 \n",
      " conv_pw_13_relu (ReLU)      (None, 4, 4, 1024)        0         \n",
      "                                                                 \n",
      "=================================================================\n",
      "Total params: 3,228,864\n",
      "Trainable params: 0\n",
      "Non-trainable params: 3,228,864\n",
      "_________________________________________________________________\n"
     ]
    }
   ],
   "source": [
    "mobile_net.summary()"
   ]
  },
  {
   "cell_type": "markdown",
   "metadata": {},
   "source": [
    "### Adding my own top layers"
   ]
  },
  {
   "cell_type": "code",
   "execution_count": 12,
   "metadata": {},
   "outputs": [],
   "source": [
    "my_model = Sequential([mobile_net,\n",
    "                       layers.Flatten(),\n",
    "                       layers.Dense(128, activation='relu'),\n",
    "                       layers.Dense(64, activation=\"relu\"),\n",
    "                       layers.Dense(24, activation=\"softmax\")\n",
    "                       ])\n",
    "\n"
   ]
  },
  {
   "cell_type": "code",
   "execution_count": 13,
   "metadata": {},
   "outputs": [
    {
     "name": "stdout",
     "output_type": "stream",
     "text": [
      "Model: \"sequential\"\n",
      "_________________________________________________________________\n",
      " Layer (type)                Output Shape              Param #   \n",
      "=================================================================\n",
      " mobilenet_1.00_128 (Functio  (None, 4, 4, 1024)       3228864   \n",
      " nal)                                                            \n",
      "                                                                 \n",
      " flatten (Flatten)           (None, 16384)             0         \n",
      "                                                                 \n",
      " dense (Dense)               (None, 128)               2097280   \n",
      "                                                                 \n",
      " dense_1 (Dense)             (None, 64)                8256      \n",
      "                                                                 \n",
      " dense_2 (Dense)             (None, 24)                1560      \n",
      "                                                                 \n",
      "=================================================================\n",
      "Total params: 5,335,960\n",
      "Trainable params: 2,107,096\n",
      "Non-trainable params: 3,228,864\n",
      "_________________________________________________________________\n"
     ]
    }
   ],
   "source": [
    "my_model.summary()\n"
   ]
  },
  {
   "cell_type": "code",
   "execution_count": 14,
   "metadata": {},
   "outputs": [],
   "source": [
    "my_model.compile(loss = 'sparse_categorical_crossentropy',\n",
    "                  optimizer = 'Adam',\n",
    "                  metrics = ['accuracy'])"
   ]
  },
  {
   "cell_type": "code",
   "execution_count": 15,
   "metadata": {},
   "outputs": [],
   "source": [
    "# Resize X_train and X_val to fit input dimesntions for VGG\n",
    "X_train_resized = img_resize(X_train, 128, 128)\n",
    "X_val_resized = img_resize(X_val, 128, 128)"
   ]
  },
  {
   "cell_type": "code",
   "execution_count": 16,
   "metadata": {},
   "outputs": [],
   "source": [
    "# Use an early stopping callback to stop training\n",
    "# once we no longer have improvements in our validation loss\n",
    "early_stop = EarlyStopping(monitor='val_loss',\n",
    "                           patience=2,\n",
    "                           mode='min',\n",
    "                           verbose=1)"
   ]
  },
  {
   "cell_type": "code",
   "execution_count": 17,
   "metadata": {},
   "outputs": [
    {
     "name": "stderr",
     "output_type": "stream",
     "text": [
      "2024-07-09 14:49:10.593858: W tensorflow/tsl/platform/profile_utils/cpu_utils.cc:128] Failed to get CPU frequency: 0 Hz\n"
     ]
    },
    {
     "name": "stdout",
     "output_type": "stream",
     "text": [
      "Epoch 1/50\n",
      "174/174 [==============================] - 86s 478ms/step - loss: 0.3318 - accuracy: 0.9227 - val_loss: 0.0058 - val_accuracy: 0.9998\n",
      "Epoch 2/50\n",
      "174/174 [==============================] - 60s 345ms/step - loss: 0.0030 - accuracy: 1.0000 - val_loss: 0.0023 - val_accuracy: 1.0000\n",
      "Epoch 3/50\n",
      "174/174 [==============================] - 63s 361ms/step - loss: 0.0011 - accuracy: 1.0000 - val_loss: 0.0015 - val_accuracy: 1.0000\n",
      "Epoch 4/50\n",
      "174/174 [==============================] - 67s 386ms/step - loss: 6.3067e-04 - accuracy: 1.0000 - val_loss: 9.9080e-04 - val_accuracy: 1.0000\n",
      "Epoch 5/50\n",
      "174/174 [==============================] - 65s 376ms/step - loss: 3.6328e-04 - accuracy: 1.0000 - val_loss: 7.4487e-04 - val_accuracy: 1.0000\n",
      "Epoch 6/50\n",
      "174/174 [==============================] - 65s 374ms/step - loss: 2.4591e-04 - accuracy: 1.0000 - val_loss: 5.9428e-04 - val_accuracy: 1.0000\n",
      "Epoch 7/50\n",
      "174/174 [==============================] - 65s 372ms/step - loss: 1.8009e-04 - accuracy: 1.0000 - val_loss: 4.9361e-04 - val_accuracy: 1.0000\n",
      "Epoch 8/50\n",
      "174/174 [==============================] - 64s 370ms/step - loss: 1.3465e-04 - accuracy: 1.0000 - val_loss: 4.4332e-04 - val_accuracy: 1.0000\n",
      "Epoch 9/50\n",
      "174/174 [==============================] - 63s 363ms/step - loss: 1.0418e-04 - accuracy: 1.0000 - val_loss: 3.7499e-04 - val_accuracy: 1.0000\n",
      "Epoch 10/50\n",
      "174/174 [==============================] - 65s 376ms/step - loss: 8.1316e-05 - accuracy: 1.0000 - val_loss: 3.3064e-04 - val_accuracy: 1.0000\n",
      "Epoch 11/50\n",
      "174/174 [==============================] - 66s 382ms/step - loss: 6.5227e-05 - accuracy: 1.0000 - val_loss: 2.9533e-04 - val_accuracy: 1.0000\n",
      "Epoch 12/50\n",
      "174/174 [==============================] - 71s 407ms/step - loss: 5.2669e-05 - accuracy: 1.0000 - val_loss: 2.5256e-04 - val_accuracy: 1.0000\n",
      "Epoch 13/50\n",
      "174/174 [==============================] - 71s 407ms/step - loss: 4.3446e-05 - accuracy: 1.0000 - val_loss: 2.2567e-04 - val_accuracy: 1.0000\n",
      "Epoch 14/50\n",
      "174/174 [==============================] - 68s 393ms/step - loss: 3.6158e-05 - accuracy: 1.0000 - val_loss: 1.9694e-04 - val_accuracy: 1.0000\n",
      "Epoch 15/50\n",
      "174/174 [==============================] - 70s 404ms/step - loss: 3.0128e-05 - accuracy: 1.0000 - val_loss: 1.8179e-04 - val_accuracy: 1.0000\n",
      "Epoch 16/50\n",
      "174/174 [==============================] - 71s 407ms/step - loss: 2.5341e-05 - accuracy: 1.0000 - val_loss: 1.6693e-04 - val_accuracy: 1.0000\n",
      "Epoch 17/50\n",
      "174/174 [==============================] - 71s 407ms/step - loss: 2.1685e-05 - accuracy: 1.0000 - val_loss: 1.5484e-04 - val_accuracy: 1.0000\n",
      "Epoch 18/50\n",
      "174/174 [==============================] - 72s 412ms/step - loss: 1.8577e-05 - accuracy: 1.0000 - val_loss: 1.4177e-04 - val_accuracy: 1.0000\n",
      "Epoch 19/50\n",
      "174/174 [==============================] - 68s 390ms/step - loss: 1.5900e-05 - accuracy: 1.0000 - val_loss: 1.3121e-04 - val_accuracy: 1.0000\n",
      "Epoch 20/50\n",
      "174/174 [==============================] - 69s 396ms/step - loss: 1.3776e-05 - accuracy: 1.0000 - val_loss: 1.2499e-04 - val_accuracy: 1.0000\n",
      "Epoch 21/50\n",
      "174/174 [==============================] - 123s 710ms/step - loss: 1.1927e-05 - accuracy: 1.0000 - val_loss: 1.0772e-04 - val_accuracy: 1.0000\n",
      "Epoch 22/50\n",
      "174/174 [==============================] - 65s 374ms/step - loss: 1.0386e-05 - accuracy: 1.0000 - val_loss: 9.9463e-05 - val_accuracy: 1.0000\n",
      "Epoch 23/50\n",
      "174/174 [==============================] - 67s 386ms/step - loss: 9.0961e-06 - accuracy: 1.0000 - val_loss: 9.1003e-05 - val_accuracy: 1.0000\n",
      "Epoch 24/50\n",
      "174/174 [==============================] - 74s 426ms/step - loss: 7.9642e-06 - accuracy: 1.0000 - val_loss: 9.0314e-05 - val_accuracy: 1.0000\n",
      "Epoch 25/50\n",
      "174/174 [==============================] - 74s 427ms/step - loss: 7.0017e-06 - accuracy: 1.0000 - val_loss: 8.0290e-05 - val_accuracy: 1.0000\n",
      "Epoch 26/50\n",
      "174/174 [==============================] - 72s 413ms/step - loss: 6.2066e-06 - accuracy: 1.0000 - val_loss: 7.3740e-05 - val_accuracy: 1.0000\n",
      "Epoch 27/50\n",
      "174/174 [==============================] - 70s 403ms/step - loss: 5.4738e-06 - accuracy: 1.0000 - val_loss: 6.9248e-05 - val_accuracy: 1.0000\n",
      "Epoch 28/50\n",
      "174/174 [==============================] - 71s 407ms/step - loss: 4.8455e-06 - accuracy: 1.0000 - val_loss: 6.4397e-05 - val_accuracy: 1.0000\n",
      "Epoch 29/50\n",
      "174/174 [==============================] - 70s 402ms/step - loss: 4.3165e-06 - accuracy: 1.0000 - val_loss: 6.1249e-05 - val_accuracy: 1.0000\n",
      "Epoch 30/50\n",
      "174/174 [==============================] - 72s 416ms/step - loss: 3.8540e-06 - accuracy: 1.0000 - val_loss: 5.5603e-05 - val_accuracy: 1.0000\n",
      "Epoch 31/50\n",
      "174/174 [==============================] - 72s 416ms/step - loss: 3.4232e-06 - accuracy: 1.0000 - val_loss: 5.2843e-05 - val_accuracy: 1.0000\n",
      "Epoch 32/50\n",
      "174/174 [==============================] - 69s 395ms/step - loss: 3.0475e-06 - accuracy: 1.0000 - val_loss: 5.1791e-05 - val_accuracy: 1.0000\n",
      "Epoch 33/50\n",
      "174/174 [==============================] - 76s 436ms/step - loss: 2.7148e-06 - accuracy: 1.0000 - val_loss: 4.9377e-05 - val_accuracy: 1.0000\n",
      "Epoch 34/50\n",
      "174/174 [==============================] - 74s 425ms/step - loss: 2.4465e-06 - accuracy: 1.0000 - val_loss: 4.7267e-05 - val_accuracy: 1.0000\n",
      "Epoch 35/50\n",
      "174/174 [==============================] - 81s 465ms/step - loss: 2.1880e-06 - accuracy: 1.0000 - val_loss: 4.4635e-05 - val_accuracy: 1.0000\n",
      "Epoch 36/50\n",
      "174/174 [==============================] - 79s 453ms/step - loss: 1.9660e-06 - accuracy: 1.0000 - val_loss: 4.1391e-05 - val_accuracy: 1.0000\n",
      "Epoch 37/50\n",
      "174/174 [==============================] - 80s 460ms/step - loss: 1.7703e-06 - accuracy: 1.0000 - val_loss: 4.0021e-05 - val_accuracy: 1.0000\n",
      "Epoch 38/50\n",
      "174/174 [==============================] - 73s 419ms/step - loss: 1.6011e-06 - accuracy: 1.0000 - val_loss: 3.7112e-05 - val_accuracy: 1.0000\n",
      "Epoch 39/50\n",
      "174/174 [==============================] - 83s 476ms/step - loss: 1.4357e-06 - accuracy: 1.0000 - val_loss: 3.5906e-05 - val_accuracy: 1.0000\n",
      "Epoch 40/50\n",
      "174/174 [==============================] - 75s 430ms/step - loss: 1.2894e-06 - accuracy: 1.0000 - val_loss: 3.4280e-05 - val_accuracy: 1.0000\n",
      "Epoch 41/50\n",
      "174/174 [==============================] - 76s 435ms/step - loss: 1.1612e-06 - accuracy: 1.0000 - val_loss: 3.3100e-05 - val_accuracy: 1.0000\n",
      "Epoch 42/50\n",
      "174/174 [==============================] - 77s 445ms/step - loss: 1.0554e-06 - accuracy: 1.0000 - val_loss: 3.0448e-05 - val_accuracy: 1.0000\n",
      "Epoch 43/50\n",
      "174/174 [==============================] - 67s 384ms/step - loss: 9.5074e-07 - accuracy: 1.0000 - val_loss: 3.0526e-05 - val_accuracy: 1.0000\n",
      "Epoch 44/50\n",
      "174/174 [==============================] - 166s 957ms/step - loss: 8.6315e-07 - accuracy: 1.0000 - val_loss: 2.7905e-05 - val_accuracy: 1.0000\n",
      "Epoch 45/50\n",
      "174/174 [==============================] - 65s 375ms/step - loss: 7.7778e-07 - accuracy: 1.0000 - val_loss: 2.7490e-05 - val_accuracy: 1.0000\n",
      "Epoch 46/50\n",
      "174/174 [==============================] - 67s 386ms/step - loss: 7.0596e-07 - accuracy: 1.0000 - val_loss: 2.6213e-05 - val_accuracy: 1.0000\n",
      "Epoch 47/50\n",
      "174/174 [==============================] - 67s 387ms/step - loss: 6.4006e-07 - accuracy: 1.0000 - val_loss: 2.5074e-05 - val_accuracy: 1.0000\n",
      "Epoch 48/50\n",
      "174/174 [==============================] - 73s 419ms/step - loss: 5.7947e-07 - accuracy: 1.0000 - val_loss: 2.4281e-05 - val_accuracy: 1.0000\n",
      "Epoch 49/50\n",
      "174/174 [==============================] - 72s 417ms/step - loss: 5.2662e-07 - accuracy: 1.0000 - val_loss: 2.2868e-05 - val_accuracy: 1.0000\n",
      "Epoch 50/50\n",
      "174/174 [==============================] - 73s 418ms/step - loss: 4.7610e-07 - accuracy: 1.0000 - val_loss: 2.2040e-05 - val_accuracy: 1.0000\n"
     ]
    }
   ],
   "source": [
    "history = my_model.fit(X_train_resized, y_train,\n",
    "                        batch_size = 128,\n",
    "                        epochs = 50,\n",
    "                        verbose = 1,\n",
    "                        validation_split = 0.2,\n",
    "                        callbacks=[early_stop])"
   ]
  },
  {
   "cell_type": "code",
   "execution_count": 18,
   "metadata": {},
   "outputs": [],
   "source": [
    "my_model.save('../../model/my_models/mobile_net.h5')"
   ]
  },
  {
   "cell_type": "code",
   "execution_count": 19,
   "metadata": {},
   "outputs": [
    {
     "data": {
      "image/png": "[encoded data removed]",
      "text/plain": [
       "<Figure size 1200x600 with 2 Axes>"
      ]
     },
     "metadata": {},
     "output_type": "display_data"
    }
   ],
   "source": [
    "# Plot training & validation accuracy values\n",
    "plt.figure(figsize=(12, 6))\n",
    "plt.subplot(1, 2, 1)  # 1 row, 2 columns, subplot 1\n",
    "plt.plot(history.history['accuracy'])\n",
    "plt.plot(history.history['val_accuracy'])\n",
    "plt.title('Model accuracy')\n",
    "plt.ylabel('Accuracy')\n",
    "plt.xlabel('Epoch')\n",
    "plt.legend(['Train', 'Validation'], loc='upper left')\n",
    "\n",
    "# Plot training & validation loss values\n",
    "plt.subplot(1, 2, 2)  # 1 row, 2 columns, subplot 2\n",
    "plt.plot(history.history['loss'])\n",
    "plt.plot(history.history['val_loss'])\n",
    "plt.title('Model loss')\n",
    "plt.ylabel('Loss')\n",
    "plt.xlabel('Epoch')\n",
    "plt.legend(['Train', 'Validation'], loc='upper left')\n",
    "\n",
    "plt.tight_layout()\n",
    "plt.show()\n"
   ]
  },
  {
   "cell_type": "code",
   "execution_count": 20,
   "metadata": {},
   "outputs": [
    {
     "name": "stdout",
     "output_type": "stream",
     "text": [
      "866/866 [==============================] - 66s 76ms/step - loss: 4.7615e-06 - accuracy: 1.0000\n",
      "Train accuracy: 1.0\n"
     ]
    }
   ],
   "source": [
    "train_loss, train_acc = my_model.evaluate(X_train_resized, y_train)\n",
    "print('Train accuracy:', train_acc)"
   ]
  },
  {
   "cell_type": "code",
   "execution_count": 34,
   "metadata": {},
   "outputs": [
    {
     "name": "stdout",
     "output_type": "stream",
     "text": [
      "217/217 [==============================] - 14s 63ms/step - loss: 3.7470e-04 - accuracy: 1.0000\n",
      "Val accuracy: 1.0\n"
     ]
    }
   ],
   "source": [
    "# Evaluate the model's performance\n",
    "val_loss, val_acc= my_model.evaluate(X_val_resized, y_val, verbose=1)\n",
    "print('Val accuracy:', val_acc) "
   ]
  },
  {
   "cell_type": "markdown",
   "metadata": {},
   "source": [
    "## Fine Tuning\n",
    "---"
   ]
  },
  {
   "cell_type": "code",
   "execution_count": 31,
   "metadata": {},
   "outputs": [
    {
     "name": "stdout",
     "output_type": "stream",
     "text": [
      "Found 15819 files belonging to 24 classes.\n"
     ]
    }
   ],
   "source": [
    "directory = '../../data/my_imgs/real_world_imgs/'\n",
    "my_imgs = keras.utils.image_dataset_from_directory(\n",
    "    directory,\n",
    "    labels=\"inferred\",\n",
    "    label_mode=\"int\",\n",
    "    color_mode=\"rgb\",\n",
    "    batch_size=32,\n",
    "    image_size=(128, 128),\n",
    "    shuffle=True, \n",
    "    seed=1\n",
    ")"
   ]
  },
  {
   "cell_type": "code",
   "execution_count": 32,
   "metadata": {},
   "outputs": [],
   "source": [
    "train_data, val_data = keras.utils.split_dataset(my_imgs, right_size= 0.2)"
   ]
  },
  {
   "cell_type": "code",
   "execution_count": 33,
   "metadata": {},
   "outputs": [],
   "source": [
    "for images, _ in train_data:\n",
    "    images /=255"
   ]
  },
  {
   "cell_type": "code",
   "execution_count": 34,
   "metadata": {},
   "outputs": [],
   "source": [
    "for images, _ in val_data:\n",
    "    images /=255"
   ]
  },
  {
   "cell_type": "code",
   "execution_count": 35,
   "metadata": {},
   "outputs": [],
   "source": [
    "# load the base VGG model\n",
    "fine_tuned_mn = load_model('../../model/my_models/mobile_net.h5')"
   ]
  },
  {
   "cell_type": "code",
   "execution_count": 36,
   "metadata": {},
   "outputs": [
    {
     "name": "stdout",
     "output_type": "stream",
     "text": [
      "<keras.layers.reshaping.flatten.Flatten object at 0x17ae01310>\n",
      "<keras.layers.core.dense.Dense object at 0x17b8440a0>\n",
      "<keras.layers.core.dense.Dense object at 0x2a0c9bfd0>\n",
      "<keras.layers.core.dense.Dense object at 0x2a0ca5fd0>\n"
     ]
    }
   ],
   "source": [
    "# only to unfreeze the last years of the base_vgg_model\n",
    "for layer in fine_tuned_mn.layers[-4:]:\n",
    "    print(layer)\n",
    "    layer.trainable = True"
   ]
  },
  {
   "cell_type": "code",
   "execution_count": 37,
   "metadata": {},
   "outputs": [],
   "source": [
    "# recompile the model\n",
    "fine_tuned_mn.compile(loss = 'sparse_categorical_crossentropy',\n",
    "                  optimizer = 'Adam',\n",
    "                  metrics = ['accuracy'])"
   ]
  },
  {
   "cell_type": "code",
   "execution_count": 38,
   "metadata": {},
   "outputs": [],
   "source": [
    "# Use an early stopping callback to stop training\n",
    "# once we no longer have improvements in our validation loss\n",
    "early_stop = EarlyStopping(monitor='val_loss',\n",
    "                           patience=3,\n",
    "                           mode='min',\n",
    "                           verbose=1)"
   ]
  },
  {
   "cell_type": "code",
   "execution_count": 39,
   "metadata": {},
   "outputs": [
    {
     "name": "stdout",
     "output_type": "stream",
     "text": [
      "Epoch 1/20\n"
     ]
    },
    {
     "name": "stdout",
     "output_type": "stream",
     "text": [
      "396/396 [==============================] - 34s 84ms/step - loss: 0.3491 - accuracy: 0.9426 - val_loss: 0.0097 - val_accuracy: 0.9975\n",
      "Epoch 2/20\n",
      "396/396 [==============================] - 33s 85ms/step - loss: 0.0020 - accuracy: 0.9998 - val_loss: 0.0020 - val_accuracy: 0.9997\n",
      "Epoch 3/20\n",
      "396/396 [==============================] - 33s 82ms/step - loss: 3.4065e-04 - accuracy: 1.0000 - val_loss: 0.0015 - val_accuracy: 0.9997\n",
      "Epoch 4/20\n",
      "396/396 [==============================] - 33s 83ms/step - loss: 2.1352e-04 - accuracy: 1.0000 - val_loss: 0.0013 - val_accuracy: 0.9997\n",
      "Epoch 5/20\n",
      "396/396 [==============================] - 33s 84ms/step - loss: 1.5087e-04 - accuracy: 1.0000 - val_loss: 0.0012 - val_accuracy: 0.9997\n",
      "Epoch 6/20\n",
      "396/396 [==============================] - 34s 86ms/step - loss: 1.1115e-04 - accuracy: 1.0000 - val_loss: 0.0011 - val_accuracy: 1.0000\n",
      "Epoch 7/20\n",
      "396/396 [==============================] - 69s 174ms/step - loss: 8.3860e-05 - accuracy: 1.0000 - val_loss: 9.8022e-04 - val_accuracy: 1.0000\n",
      "Epoch 8/20\n",
      "396/396 [==============================] - 34s 86ms/step - loss: 6.4722e-05 - accuracy: 1.0000 - val_loss: 9.1109e-04 - val_accuracy: 1.0000\n",
      "Epoch 9/20\n",
      "396/396 [==============================] - 34s 85ms/step - loss: 5.0619e-05 - accuracy: 1.0000 - val_loss: 8.6051e-04 - val_accuracy: 1.0000\n",
      "Epoch 10/20\n",
      "396/396 [==============================] - 36s 90ms/step - loss: 3.9911e-05 - accuracy: 1.0000 - val_loss: 8.1307e-04 - val_accuracy: 1.0000\n",
      "Epoch 11/20\n",
      "396/396 [==============================] - 34s 85ms/step - loss: 3.1658e-05 - accuracy: 1.0000 - val_loss: 7.6931e-04 - val_accuracy: 0.9997\n",
      "Epoch 12/20\n",
      "396/396 [==============================] - 34s 86ms/step - loss: 2.5216e-05 - accuracy: 1.0000 - val_loss: 7.3790e-04 - val_accuracy: 0.9997\n",
      "Epoch 13/20\n",
      "396/396 [==============================] - 34s 86ms/step - loss: 2.0142e-05 - accuracy: 1.0000 - val_loss: 7.0498e-04 - val_accuracy: 0.9997\n",
      "Epoch 14/20\n",
      "396/396 [==============================] - 34s 85ms/step - loss: 1.6052e-05 - accuracy: 1.0000 - val_loss: 6.7590e-04 - val_accuracy: 0.9997\n",
      "Epoch 15/20\n",
      "396/396 [==============================] - 34s 86ms/step - loss: 1.2743e-05 - accuracy: 1.0000 - val_loss: 6.4462e-04 - val_accuracy: 0.9997\n",
      "Epoch 16/20\n",
      "396/396 [==============================] - 33s 84ms/step - loss: 1.0105e-05 - accuracy: 1.0000 - val_loss: 6.1462e-04 - val_accuracy: 0.9997\n",
      "Epoch 17/20\n",
      "396/396 [==============================] - 33s 84ms/step - loss: 7.9587e-06 - accuracy: 1.0000 - val_loss: 6.0251e-04 - val_accuracy: 0.9997\n",
      "Epoch 18/20\n",
      "396/396 [==============================] - 35s 89ms/step - loss: 6.2792e-06 - accuracy: 1.0000 - val_loss: 5.8456e-04 - val_accuracy: 0.9997\n",
      "Epoch 19/20\n",
      "396/396 [==============================] - 33s 85ms/step - loss: 4.9447e-06 - accuracy: 1.0000 - val_loss: 5.6419e-04 - val_accuracy: 0.9997\n",
      "Epoch 20/20\n",
      "396/396 [==============================] - 36s 90ms/step - loss: 3.8950e-06 - accuracy: 1.0000 - val_loss: 5.5126e-04 - val_accuracy: 0.9997\n"
     ]
    }
   ],
   "source": [
    "history = fine_tuned_mn.fit(train_data,\n",
    "                        batch_size = 128,\n",
    "                        epochs = 20,\n",
    "                        verbose = 1,\n",
    "                        validation_data = val_data,\n",
    "                        callbacks=[early_stop])"
   ]
  },
  {
   "cell_type": "code",
   "execution_count": 41,
   "metadata": {},
   "outputs": [],
   "source": [
    "fine_tuned_mn.save('../../model/my_models/MobileNet_fine_tuned.h5')"
   ]
  }
 ],
 "metadata": {
  "kernelspec": {
   "display_name": "capstone_tf",
   "language": "python",
   "name": "python3"
  },
  "language_info": {
   "codemirror_mode": {
    "name": "ipython",
    "version": 3
   },
   "file_extension": ".py",
   "mimetype": "text/x-python",
   "name": "python",
   "nbconvert_exporter": "python",
   "pygments_lexer": "ipython3",
   "version": "3.8.19"
  }
 },
 "nbformat": 4,
 "nbformat_minor": 2
}
